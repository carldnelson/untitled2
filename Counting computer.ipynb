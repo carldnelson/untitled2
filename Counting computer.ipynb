{
 "cells": [
  {
   "cell_type": "code",
   "execution_count": 3,
   "metadata": {
    "pycharm": {
     "is_executing": false
    }
   },
   "outputs": [],
   "source": [
    "# Python3 program to convert a list \n",
    "# of integers into a single integer \n",
    "def convert(list): \n",
    "\n",
    "    # Convert integer list to string list \n",
    "    # then join the list using join() \n",
    "    if list: # List is not empty\n",
    "        res = int(\"\".join(map(str, list))) \n",
    "    else:\n",
    "        res = 0\n",
    "    return res"
   ]
  },
  {
   "cell_type": "code",
   "execution_count": 4,
   "metadata": {
    "pycharm": {
     "is_executing": false
    }
   },
   "outputs": [],
   "source": [
    "number = 133056456343\n",
    "dnumber = [int(x) for x in str(number)] # convert our number to a list of digits that we can split up"
   ]
  },
  {
   "cell_type": "code",
   "execution_count": 5,
   "metadata": {
    "pycharm": {
     "is_executing": false
    }
   },
   "outputs": [
    {
     "name": "stdout",
     "text": [
      "hundreds 343\n",
      "thousands 456\n",
      "millions 56\n",
      "billions 133\n"
     ],
     "output_type": "stream"
    }
   ],
   "source": [
    "hundreds = convert(dnumber[-3:])\n",
    "print(\"hundreds\" , hundreds)\n",
    "thousands = convert(dnumber[-6:-3])\n",
    "print(\"thousands\", thousands)\n",
    "millions = convert(dnumber[-9:-6])\n",
    "print('millions', millions)\n",
    "billions = convert(dnumber[-12:-9])\n",
    "print('billions', billions)"
   ]
  },
  {
   "cell_type": "code",
   "execution_count": 111,
   "metadata": {},
   "outputs": [
    {
     "ename": "IndentationError",
     "evalue": "expected an indented block (<ipython-input-111-bbbeabeeb32f>, line 20)",
     "output_type": "error",
     "traceback": [
      "\u001b[0;36m  File \u001b[0;32m\"<ipython-input-111-bbbeabeeb32f>\"\u001b[0;36m, line \u001b[0;32m20\u001b[0m\n\u001b[0;31m    return (hundred, tens, units)\u001b[0m\n\u001b[0m    ^\u001b[0m\n\u001b[0;31mIndentationError\u001b[0m\u001b[0;31m:\u001b[0m expected an indented block\n"
     ]
    }
   ],
   "source": [
    "# think this should be trashed\n",
    "#\n",
    "# function to split out hundreds and tens and units\n",
    "def split(number): \n",
    "# should add in a check that number is less than 1000\n",
    "# Hundreds is 0-9\n",
    "# Tens is 2-9\n",
    "# Teens \n",
    "# Units is 1-9\n",
    "    if number > 99:\n",
    "        # It has both hundred and tens units\n",
    "        hundred = number // 100\n",
    "        tens = number - (hundred * 100)\n",
    "    else:\n",
    "        # number has a zero for hundreds unit\n",
    "        hundred = 0\n",
    "        if number < 20:\n",
    "            # We have a teen\n",
    "            tens = number\n",
    "        else:\n",
    "            # we have to\n",
    "    return (hundred, tens, units)\n",
    "\n"
   ]
  },
  {
   "cell_type": "code",
   "execution_count": 6,
   "metadata": {
    "jupyter": {
     "source_hidden": true
    },
    "pycharm": {
     "is_executing": false
    }
   },
   "outputs": [
    {
     "traceback": [
      "\u001b[0;31m---------------------------------------------------------------------------\u001b[0m",
      "\u001b[0;31mNameError\u001b[0m                                 Traceback (most recent call last)",
      "\u001b[0;32m<ipython-input-6-9bd1a461e5a3>\u001b[0m in \u001b[0;36m<module>\u001b[0;34m\u001b[0m\n\u001b[1;32m      1\u001b[0m \u001b[0maudio\u001b[0m \u001b[0;34m=\u001b[0m \u001b[0;34m\"\"\u001b[0m\u001b[0;34m\u001b[0m\u001b[0;34m\u001b[0m\u001b[0m\n\u001b[0;32m----> 2\u001b[0;31m \u001b[0;32mif\u001b[0m \u001b[0msplit\u001b[0m\u001b[0;34m(\u001b[0m\u001b[0mbillions\u001b[0m\u001b[0;34m)\u001b[0m\u001b[0;34m[\u001b[0m\u001b[0;36m0\u001b[0m\u001b[0;34m]\u001b[0m\u001b[0;34m:\u001b[0m\u001b[0;34m\u001b[0m\u001b[0;34m\u001b[0m\u001b[0m\n\u001b[0m\u001b[1;32m      3\u001b[0m     \u001b[0maudio\u001b[0m \u001b[0;34m+=\u001b[0m \u001b[0mstr\u001b[0m\u001b[0;34m(\u001b[0m\u001b[0msplit\u001b[0m\u001b[0;34m(\u001b[0m\u001b[0mbillions\u001b[0m\u001b[0;34m)\u001b[0m\u001b[0;34m[\u001b[0m\u001b[0;36m0\u001b[0m\u001b[0;34m]\u001b[0m\u001b[0;34m)\u001b[0m \u001b[0;34m+\u001b[0m \u001b[0;34m' hundred '\u001b[0m \u001b[0;34m+\u001b[0m \u001b[0mstr\u001b[0m\u001b[0;34m(\u001b[0m\u001b[0msplit\u001b[0m\u001b[0;34m(\u001b[0m\u001b[0mbillions\u001b[0m\u001b[0;34m)\u001b[0m\u001b[0;34m[\u001b[0m\u001b[0;36m1\u001b[0m\u001b[0;34m]\u001b[0m\u001b[0;34m)\u001b[0m \u001b[0;34m+\u001b[0m \u001b[0;34m' billion '\u001b[0m\u001b[0;34m\u001b[0m\u001b[0;34m\u001b[0m\u001b[0m\n\u001b[1;32m      4\u001b[0m \u001b[0;32melse\u001b[0m\u001b[0;34m:\u001b[0m\u001b[0;34m\u001b[0m\u001b[0;34m\u001b[0m\u001b[0m\n\u001b[1;32m      5\u001b[0m     \u001b[0maudio\u001b[0m \u001b[0;34m+=\u001b[0m \u001b[0mstr\u001b[0m\u001b[0;34m(\u001b[0m\u001b[0msplit\u001b[0m\u001b[0;34m(\u001b[0m\u001b[0mbillions\u001b[0m\u001b[0;34m)\u001b[0m\u001b[0;34m[\u001b[0m\u001b[0;36m1\u001b[0m\u001b[0;34m]\u001b[0m\u001b[0;34m)\u001b[0m\u001b[0;34m\u001b[0m\u001b[0;34m\u001b[0m\u001b[0m\n",
      "\u001b[0;31mNameError\u001b[0m: name 'split' is not defined"
     ],
     "ename": "NameError",
     "evalue": "name 'split' is not defined",
     "output_type": "error"
    }
   ],
   "source": [
    "audio = \"\"\n",
    "if split(billions)[0]:\n",
    "    audio += str(split(billions)[0]) + ' hundred ' + str(split(billions)[1]) + ' billion '\n",
    "else:\n",
    "    audio += str(split(billions)[1])\n",
    "    \n",
    "if split(millions)[0]:\n",
    "    audio += str(split(millions)[0]) + ' hundred ' + str(split(millions)[1]) + ' million '\n",
    "else:\n",
    "    audio += str(split(millions)[1]) + ' million '\n",
    "    \n",
    "if split(thousands)[0]:\n",
    "    audio += str(split(thousands)[0]) + ' hundred ' + str(split(thousands)[1]) + ' thousand '\n",
    "else:\n",
    "    audio += str(split(thousands)[1]) + ' thousand '\n",
    "    \n",
    "if split(hundreds)[0]:\n",
    "    audio += str(split(hundreds)[0]) + ' hundred ' + str(split(hundreds)[1]) \n",
    "else:\n",
    "    audio += str(split(hundreds)[1])\n",
    "    \n",
    "print(audio)\n",
    "#133 056 456 343"
   ]
  },
  {
   "cell_type": "code",
   "execution_count": 8,
   "metadata": {
    "pycharm": {
     "is_executing": false
    }
   },
   "outputs": [],
   "source": [
    "def split(num):\n",
    "    # This is the correct function to split out the hundreds, tens and units\n",
    "    \n",
    "    Hundreds = num // 100\n",
    "    Tens = (num - (100 * Hundreds)) // 10\n",
    "    Teens = (num - (100 * Hundreds) - (Tens * 10))\n",
    " \n",
    "    if Tens < 2:\n",
    "        Teens = num - (100 * Hundreds)\n",
    "        Tens = 0\n",
    "        \n",
    "    return (Hundreds, Tens * 10, Teens)\n"
   ]
  },
  {
   "cell_type": "code",
   "execution_count": 12,
   "metadata": {
    "pycharm": {
     "is_executing": false
    }
   },
   "outputs": [
    {
     "data": {
      "text/plain": "((5, 40, 5), (2, 0, 19), (1, 0, 0), (0, 0, 12), (2, 30, 1))"
     },
     "metadata": {},
     "output_type": "execute_result",
     "execution_count": 12
    }
   ],
   "source": [
    "split(545), split(219), split(100), split(12), split(231)\n"
   ]
  },
  {
   "cell_type": "code",
   "execution_count": 105,
   "metadata": {
    "jupyter": {
     "source_hidden": true
    }
   },
   "outputs": [],
   "source": [
    "audio = {\n",
    "    1: 'one.wav',\n",
    "    2: 'two.wave',\n",
    "    3: 'three.wav',\n",
    "    4: 'four.wave',\n",
    "    5: 'five.wav',\n",
    "    6: 'six.wave',\n",
    "    7: 'seven.wav',\n",
    "    8: 'eight.wave',\n",
    "    9: 'nine.wav',\n",
    "    10: 'ten.wave',\n",
    "    11: 'eleven.wav',\n",
    "    12: 'twelve.wave',\n",
    "    13: 'thirteen.wav',\n",
    "    14: 'fourteen.wave',\n",
    "    15: 'fifteen.wav',\n",
    "    16: 'sixteen.wave',\n",
    "    17: 'seventeen.wav',\n",
    "    18: 'eighteen.wave',\n",
    "    19: 'nineteen.wav',\n",
    "    20: 'twenty.wave',\n",
    "    30: 'thirty.wav',\n",
    "    40: 'fourty.wave',\n",
    "    50: 'fifty.wav',\n",
    "    60: 'sixty.wave',\n",
    "    70: 'seventy.wav',\n",
    "    80: 'eighty.wave',\n",
    "    90: 'ninety.wav',\n",
    "    100: 'hundred.wave',\n",
    "    1000: 'thousand.wav',\n",
    "    1000000: 'million.wave',\n",
    "    1000000000: 'billion.wav',\n",
    "    1000000000000: 'trillion.wave'\n",
    "}"
   ]
  },
  {
   "cell_type": "code",
   "execution_count": 106,
   "metadata": {},
   "outputs": [
    {
     "ename": "SyntaxError",
     "evalue": "invalid syntax (<ipython-input-106-7b022d92d054>, line 3)",
     "output_type": "error",
     "traceback": [
      "\u001b[0;36m  File \u001b[0;32m\"<ipython-input-106-7b022d92d054>\"\u001b[0;36m, line \u001b[0;32m3\u001b[0m\n\u001b[0;31m    If hundreds = 0 and tens < 20:\u001b[0m\n\u001b[0m              ^\u001b[0m\n\u001b[0;31mSyntaxError\u001b[0m\u001b[0;31m:\u001b[0m invalid syntax\n"
     ]
    }
   ],
   "source": [
    "# pseudocode for reading out the numbers based on the input of splits from split function\n",
    "\n",
    "If hundreds = 0 and tens < 20:\n",
    "    # we have a teen\n",
    "    say teens\n",
    "    Say placeholder\n",
    "    \n",
    "If hundreds >= 1 \n",
    "    # we have to say hundreds, tens and units\n",
    "    if tens > 20 :\n",
    "        Say hundreds\n",
    "        Say Tens\n",
    "        Say units\n",
    "        Say placeholder\n",
    "    else \n",
    "        # we have a hundred and teen\n",
    "        Say hundreds\n",
    "        Say teens\n",
    "\n",
    "        "
   ]
  },
  {
   "cell_type": "code",
   "execution_count": null,
   "metadata": {},
   "outputs": [],
   "source": []
  }
 ],
 "metadata": {
  "kernelspec": {
   "display_name": "Python 3",
   "language": "python",
   "name": "python3"
  },
  "language_info": {
   "codemirror_mode": {
    "name": "ipython",
    "version": 3
   },
   "file_extension": ".py",
   "mimetype": "text/x-python",
   "name": "python",
   "nbconvert_exporter": "python",
   "pygments_lexer": "ipython3",
   "version": "3.7.3"
  },
  "pycharm": {
   "stem_cell": {
    "cell_type": "raw",
    "source": [],
    "metadata": {
     "collapsed": false
    }
   }
  }
 },
 "nbformat": 4,
 "nbformat_minor": 4
}